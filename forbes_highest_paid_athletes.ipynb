{
 "cells": [
  {
   "cell_type": "markdown",
   "id": "33ca943f",
   "metadata": {},
   "source": [
    "# FORBES: Highest Paid Athletes in the World"
   ]
  },
  {
   "cell_type": "markdown",
   "id": "722b9eca",
   "metadata": {},
   "source": [
    "## 1. Biblioteca"
   ]
  },
  {
   "cell_type": "code",
   "execution_count": 1,
   "id": "75953905",
   "metadata": {},
   "outputs": [],
   "source": [
    "# Importando os bibliotecas\n",
    "\n",
    "import pandas as pd\n",
    "import seaborn as sns\n",
    "import matplotlib.pyplot as plt\n",
    "\n",
    "%matplotlib inline"
   ]
  },
  {
   "cell_type": "markdown",
   "id": "af6c392e",
   "metadata": {},
   "source": [
    "## 2. Análise Exploratória e Pré-processamento dos Dados"
   ]
  },
  {
   "cell_type": "code",
   "execution_count": 2,
   "id": "46404b73",
   "metadata": {},
   "outputs": [],
   "source": [
    "# Importando o Dataset\n",
    "df_forbes = pd.read_csv(\"./Data/Forbes Richest Atheletes (Forbes Richest Athletes 1990-2020).csv\")"
   ]
  },
  {
   "cell_type": "code",
   "execution_count": 3,
   "id": "4234ac72",
   "metadata": {},
   "outputs": [
    {
     "data": {
      "text/html": [
       "<div>\n",
       "<style scoped>\n",
       "    .dataframe tbody tr th:only-of-type {\n",
       "        vertical-align: middle;\n",
       "    }\n",
       "\n",
       "    .dataframe tbody tr th {\n",
       "        vertical-align: top;\n",
       "    }\n",
       "\n",
       "    .dataframe thead th {\n",
       "        text-align: right;\n",
       "    }\n",
       "</style>\n",
       "<table border=\"1\" class=\"dataframe\">\n",
       "  <thead>\n",
       "    <tr style=\"text-align: right;\">\n",
       "      <th></th>\n",
       "      <th>S.NO</th>\n",
       "      <th>Name</th>\n",
       "      <th>Nationality</th>\n",
       "      <th>Current Rank</th>\n",
       "      <th>Previous Year Rank</th>\n",
       "      <th>Sport</th>\n",
       "      <th>Year</th>\n",
       "      <th>earnings ($ million)</th>\n",
       "    </tr>\n",
       "  </thead>\n",
       "  <tbody>\n",
       "    <tr>\n",
       "      <th>0</th>\n",
       "      <td>1</td>\n",
       "      <td>Mike Tyson</td>\n",
       "      <td>USA</td>\n",
       "      <td>1</td>\n",
       "      <td>NaN</td>\n",
       "      <td>boxing</td>\n",
       "      <td>1990</td>\n",
       "      <td>28.6</td>\n",
       "    </tr>\n",
       "    <tr>\n",
       "      <th>1</th>\n",
       "      <td>2</td>\n",
       "      <td>Buster Douglas</td>\n",
       "      <td>USA</td>\n",
       "      <td>2</td>\n",
       "      <td>NaN</td>\n",
       "      <td>boxing</td>\n",
       "      <td>1990</td>\n",
       "      <td>26.0</td>\n",
       "    </tr>\n",
       "    <tr>\n",
       "      <th>2</th>\n",
       "      <td>3</td>\n",
       "      <td>Sugar Ray Leonard</td>\n",
       "      <td>USA</td>\n",
       "      <td>3</td>\n",
       "      <td>NaN</td>\n",
       "      <td>boxing</td>\n",
       "      <td>1990</td>\n",
       "      <td>13.0</td>\n",
       "    </tr>\n",
       "    <tr>\n",
       "      <th>3</th>\n",
       "      <td>4</td>\n",
       "      <td>Ayrton Senna</td>\n",
       "      <td>Brazil</td>\n",
       "      <td>4</td>\n",
       "      <td>NaN</td>\n",
       "      <td>auto racing</td>\n",
       "      <td>1990</td>\n",
       "      <td>10.0</td>\n",
       "    </tr>\n",
       "    <tr>\n",
       "      <th>4</th>\n",
       "      <td>5</td>\n",
       "      <td>Alain Prost</td>\n",
       "      <td>France</td>\n",
       "      <td>5</td>\n",
       "      <td>NaN</td>\n",
       "      <td>auto racing</td>\n",
       "      <td>1990</td>\n",
       "      <td>9.0</td>\n",
       "    </tr>\n",
       "  </tbody>\n",
       "</table>\n",
       "</div>"
      ],
      "text/plain": [
       "   S.NO               Name Nationality  Current Rank Previous Year Rank  \\\n",
       "0     1         Mike Tyson         USA             1                NaN   \n",
       "1     2     Buster Douglas         USA             2                NaN   \n",
       "2     3  Sugar Ray Leonard         USA             3                NaN   \n",
       "3     4       Ayrton Senna      Brazil             4                NaN   \n",
       "4     5        Alain Prost      France             5                NaN   \n",
       "\n",
       "         Sport  Year  earnings ($ million)  \n",
       "0       boxing  1990                  28.6  \n",
       "1       boxing  1990                  26.0  \n",
       "2       boxing  1990                  13.0  \n",
       "3  auto racing  1990                  10.0  \n",
       "4  auto racing  1990                   9.0  "
      ]
     },
     "execution_count": 3,
     "metadata": {},
     "output_type": "execute_result"
    }
   ],
   "source": [
    "df_forbes.head()"
   ]
  },
  {
   "cell_type": "code",
   "execution_count": 4,
   "id": "9c38d6f4",
   "metadata": {},
   "outputs": [
    {
     "name": "stdout",
     "output_type": "stream",
     "text": [
      "Número de observações (linhas): 301 \n",
      "Número de variáveis (colunas): 8\n"
     ]
    }
   ],
   "source": [
    "# Criando uma cópia do dataframe original - \"df_forbes_mod\"\n",
    "df_forbes_mod = df_forbes.copy()\n",
    "# Verificando o número de observações e variáveis\n",
    "n_observ, n_variab = df_forbes_mod.shape\n",
    "print(f\"Número de observações (linhas): {n_observ} \\nNúmero de variáveis (colunas): {n_variab}\")"
   ]
  },
  {
   "cell_type": "code",
   "execution_count": 5,
   "id": "f9e93145",
   "metadata": {},
   "outputs": [
    {
     "data": {
      "text/html": [
       "<div>\n",
       "<style scoped>\n",
       "    .dataframe tbody tr th:only-of-type {\n",
       "        vertical-align: middle;\n",
       "    }\n",
       "\n",
       "    .dataframe tbody tr th {\n",
       "        vertical-align: top;\n",
       "    }\n",
       "\n",
       "    .dataframe thead th {\n",
       "        text-align: right;\n",
       "    }\n",
       "</style>\n",
       "<table border=\"1\" class=\"dataframe\">\n",
       "  <thead>\n",
       "    <tr style=\"text-align: right;\">\n",
       "      <th></th>\n",
       "      <th>s.no</th>\n",
       "      <th>name</th>\n",
       "      <th>nationality</th>\n",
       "      <th>current_name</th>\n",
       "      <th>previous_year_rank</th>\n",
       "      <th>sport</th>\n",
       "      <th>year</th>\n",
       "      <th>earnings_$_million</th>\n",
       "    </tr>\n",
       "  </thead>\n",
       "  <tbody>\n",
       "    <tr>\n",
       "      <th>0</th>\n",
       "      <td>1</td>\n",
       "      <td>Mike Tyson</td>\n",
       "      <td>USA</td>\n",
       "      <td>1</td>\n",
       "      <td>NaN</td>\n",
       "      <td>boxing</td>\n",
       "      <td>1990</td>\n",
       "      <td>28.6</td>\n",
       "    </tr>\n",
       "    <tr>\n",
       "      <th>1</th>\n",
       "      <td>2</td>\n",
       "      <td>Buster Douglas</td>\n",
       "      <td>USA</td>\n",
       "      <td>2</td>\n",
       "      <td>NaN</td>\n",
       "      <td>boxing</td>\n",
       "      <td>1990</td>\n",
       "      <td>26.0</td>\n",
       "    </tr>\n",
       "    <tr>\n",
       "      <th>2</th>\n",
       "      <td>3</td>\n",
       "      <td>Sugar Ray Leonard</td>\n",
       "      <td>USA</td>\n",
       "      <td>3</td>\n",
       "      <td>NaN</td>\n",
       "      <td>boxing</td>\n",
       "      <td>1990</td>\n",
       "      <td>13.0</td>\n",
       "    </tr>\n",
       "    <tr>\n",
       "      <th>3</th>\n",
       "      <td>4</td>\n",
       "      <td>Ayrton Senna</td>\n",
       "      <td>Brazil</td>\n",
       "      <td>4</td>\n",
       "      <td>NaN</td>\n",
       "      <td>auto racing</td>\n",
       "      <td>1990</td>\n",
       "      <td>10.0</td>\n",
       "    </tr>\n",
       "    <tr>\n",
       "      <th>4</th>\n",
       "      <td>5</td>\n",
       "      <td>Alain Prost</td>\n",
       "      <td>France</td>\n",
       "      <td>5</td>\n",
       "      <td>NaN</td>\n",
       "      <td>auto racing</td>\n",
       "      <td>1990</td>\n",
       "      <td>9.0</td>\n",
       "    </tr>\n",
       "  </tbody>\n",
       "</table>\n",
       "</div>"
      ],
      "text/plain": [
       "   s.no               name nationality  current_name previous_year_rank  \\\n",
       "0     1         Mike Tyson         USA             1                NaN   \n",
       "1     2     Buster Douglas         USA             2                NaN   \n",
       "2     3  Sugar Ray Leonard         USA             3                NaN   \n",
       "3     4       Ayrton Senna      Brazil             4                NaN   \n",
       "4     5        Alain Prost      France             5                NaN   \n",
       "\n",
       "         sport  year  earnings_$_million  \n",
       "0       boxing  1990                28.6  \n",
       "1       boxing  1990                26.0  \n",
       "2       boxing  1990                13.0  \n",
       "3  auto racing  1990                10.0  \n",
       "4  auto racing  1990                 9.0  "
      ]
     },
     "execution_count": 5,
     "metadata": {},
     "output_type": "execute_result"
    }
   ],
   "source": [
    "# Removendo os espaços dos nomes das variáveis \"Current Rank\", \"Previous Year\" e \"earnings ($ million)\"\n",
    "df_forbes_mod.rename(columns={\"Current Rank\":\"Current_Name\", \"Previous Year Rank\": \n",
    "                              \"Previous_Year_Rank\", \"earnings ($ million)\": \"earnings_$_million\"}, inplace=True)\n",
    "df_forbes_mod.columns = df_forbes_mod.columns.str.lower()\n",
    "df_forbes_mod.head()"
   ]
  },
  {
   "cell_type": "code",
   "execution_count": 6,
   "id": "d6047618",
   "metadata": {},
   "outputs": [
    {
     "data": {
      "text/plain": [
       "s.no                   0\n",
       "name                   0\n",
       "nationality            0\n",
       "current_name           0\n",
       "previous_year_rank    24\n",
       "sport                  0\n",
       "year                   0\n",
       "earnings_$_million     0\n",
       "dtype: int64"
      ]
     },
     "execution_count": 6,
     "metadata": {},
     "output_type": "execute_result"
    }
   ],
   "source": [
    "# Verificando valores Missinng (NaN) para cada variável\n",
    "forbes_variab = df_forbes_mod.columns\n",
    "df_forbes_mod.isna().sum()  # Variável \"Previous Year Rank\" contém 24 observações com valores missing (NaN)"
   ]
  },
  {
   "cell_type": "code",
   "execution_count": 7,
   "id": "b422d24b",
   "metadata": {},
   "outputs": [
    {
     "data": {
      "text/plain": [
       "[Text(0, 0, 's.no'),\n",
       " Text(1, 0, 'name'),\n",
       " Text(2, 0, 'nationality'),\n",
       " Text(3, 0, 'current_name'),\n",
       " Text(4, 0, 'previous_year_rank'),\n",
       " Text(5, 0, 'sport'),\n",
       " Text(6, 0, 'year'),\n",
       " Text(7, 0, 'earnings_$_million')]"
      ]
     },
     "execution_count": 7,
     "metadata": {},
     "output_type": "execute_result"
    },
    {
     "data": {
      "image/png": "[encoded data removed]",
      "text/plain": [
       "<Figure size 1152x432 with 1 Axes>"
      ]
     },
     "metadata": {
      "needs_background": "light"
     },
     "output_type": "display_data"
    }
   ],
   "source": [
    "# Criando um Plot para melhor visualizar os valores missing\n",
    "\n",
    "plt.figure(figsize=(16,6))\n",
    "missing_plot = sns.barplot(x=forbes_variab, y=df_forbes_mod.count())\n",
    "missing_plot.set_title(\"Valores Missing do Dataset\")\n",
    "missing_plot.set_ylabel(\"Número de observações\")\n",
    "missing_plot.set_xticklabels(forbes_variab.unique().astype(str), rotation=\"vertical\")"
   ]
  },
  {
   "cell_type": "code",
   "execution_count": 8,
   "id": "b028a43a",
   "metadata": {},
   "outputs": [
    {
     "data": {
      "text/plain": [
       "s.no                    int64\n",
       "name                   object\n",
       "nationality            object\n",
       "current_name            int64\n",
       "previous_year_rank     object\n",
       "sport                  object\n",
       "year                    int64\n",
       "earnings_$_million    float64\n",
       "dtype: object"
      ]
     },
     "execution_count": 8,
     "metadata": {},
     "output_type": "execute_result"
    }
   ],
   "source": [
    "# Verificando o tipo de dado de cada variável\n",
    "df_forbes_mod.dtypes"
   ]
  },
  {
   "cell_type": "code",
   "execution_count": 9,
   "id": "7c5293e2",
   "metadata": {},
   "outputs": [
    {
     "name": "stdout",
     "output_type": "stream",
     "text": [
      "s.no                           int64\n",
      "name                          object\n",
      "nationality                   object\n",
      "current_name                   int64\n",
      "previous_year_rank            object\n",
      "sport                         object\n",
      "year                  datetime64[ns]\n",
      "earnings_$_million           float64\n",
      "dtype: object\n"
     ]
    },
    {
     "data": {
      "text/html": [
       "<div>\n",
       "<style scoped>\n",
       "    .dataframe tbody tr th:only-of-type {\n",
       "        vertical-align: middle;\n",
       "    }\n",
       "\n",
       "    .dataframe tbody tr th {\n",
       "        vertical-align: top;\n",
       "    }\n",
       "\n",
       "    .dataframe thead th {\n",
       "        text-align: right;\n",
       "    }\n",
       "</style>\n",
       "<table border=\"1\" class=\"dataframe\">\n",
       "  <thead>\n",
       "    <tr style=\"text-align: right;\">\n",
       "      <th></th>\n",
       "      <th>s.no</th>\n",
       "      <th>name</th>\n",
       "      <th>nationality</th>\n",
       "      <th>current_name</th>\n",
       "      <th>previous_year_rank</th>\n",
       "      <th>sport</th>\n",
       "      <th>year</th>\n",
       "      <th>earnings_$_million</th>\n",
       "    </tr>\n",
       "  </thead>\n",
       "  <tbody>\n",
       "    <tr>\n",
       "      <th>0</th>\n",
       "      <td>1</td>\n",
       "      <td>Mike Tyson</td>\n",
       "      <td>USA</td>\n",
       "      <td>1</td>\n",
       "      <td>NaN</td>\n",
       "      <td>boxing</td>\n",
       "      <td>1990-01-01</td>\n",
       "      <td>28.6</td>\n",
       "    </tr>\n",
       "    <tr>\n",
       "      <th>1</th>\n",
       "      <td>2</td>\n",
       "      <td>Buster Douglas</td>\n",
       "      <td>USA</td>\n",
       "      <td>2</td>\n",
       "      <td>NaN</td>\n",
       "      <td>boxing</td>\n",
       "      <td>1990-01-01</td>\n",
       "      <td>26.0</td>\n",
       "    </tr>\n",
       "    <tr>\n",
       "      <th>2</th>\n",
       "      <td>3</td>\n",
       "      <td>Sugar Ray Leonard</td>\n",
       "      <td>USA</td>\n",
       "      <td>3</td>\n",
       "      <td>NaN</td>\n",
       "      <td>boxing</td>\n",
       "      <td>1990-01-01</td>\n",
       "      <td>13.0</td>\n",
       "    </tr>\n",
       "    <tr>\n",
       "      <th>3</th>\n",
       "      <td>4</td>\n",
       "      <td>Ayrton Senna</td>\n",
       "      <td>Brazil</td>\n",
       "      <td>4</td>\n",
       "      <td>NaN</td>\n",
       "      <td>auto racing</td>\n",
       "      <td>1990-01-01</td>\n",
       "      <td>10.0</td>\n",
       "    </tr>\n",
       "    <tr>\n",
       "      <th>4</th>\n",
       "      <td>5</td>\n",
       "      <td>Alain Prost</td>\n",
       "      <td>France</td>\n",
       "      <td>5</td>\n",
       "      <td>NaN</td>\n",
       "      <td>auto racing</td>\n",
       "      <td>1990-01-01</td>\n",
       "      <td>9.0</td>\n",
       "    </tr>\n",
       "  </tbody>\n",
       "</table>\n",
       "</div>"
      ],
      "text/plain": [
       "   s.no               name nationality  current_name previous_year_rank  \\\n",
       "0     1         Mike Tyson         USA             1                NaN   \n",
       "1     2     Buster Douglas         USA             2                NaN   \n",
       "2     3  Sugar Ray Leonard         USA             3                NaN   \n",
       "3     4       Ayrton Senna      Brazil             4                NaN   \n",
       "4     5        Alain Prost      France             5                NaN   \n",
       "\n",
       "         sport       year  earnings_$_million  \n",
       "0       boxing 1990-01-01                28.6  \n",
       "1       boxing 1990-01-01                26.0  \n",
       "2       boxing 1990-01-01                13.0  \n",
       "3  auto racing 1990-01-01                10.0  \n",
       "4  auto racing 1990-01-01                 9.0  "
      ]
     },
     "execution_count": 9,
     "metadata": {},
     "output_type": "execute_result"
    }
   ],
   "source": [
    "# Mudando o tipo da variável \"Year\" de int para o tipo datetime.\n",
    "df_forbes_mod[\"year\"] = df_forbes_mod[\"year\"].apply(pd.to_datetime, format=\"%Y\")\n",
    "\n",
    "print(df_forbes_mod.dtypes)\n",
    "df_forbes_mod.head()"
   ]
  },
  {
   "cell_type": "code",
   "execution_count": 10,
   "id": "ceb64398",
   "metadata": {},
   "outputs": [
    {
     "data": {
      "text/html": [
       "<div>\n",
       "<style scoped>\n",
       "    .dataframe tbody tr th:only-of-type {\n",
       "        vertical-align: middle;\n",
       "    }\n",
       "\n",
       "    .dataframe tbody tr th {\n",
       "        vertical-align: top;\n",
       "    }\n",
       "\n",
       "    .dataframe thead th {\n",
       "        text-align: right;\n",
       "    }\n",
       "</style>\n",
       "<table border=\"1\" class=\"dataframe\">\n",
       "  <thead>\n",
       "    <tr style=\"text-align: right;\">\n",
       "      <th></th>\n",
       "      <th>name</th>\n",
       "      <th>nationality</th>\n",
       "      <th>current_name</th>\n",
       "      <th>previous_year_rank</th>\n",
       "      <th>sport</th>\n",
       "      <th>year</th>\n",
       "      <th>earnings_$_million</th>\n",
       "    </tr>\n",
       "  </thead>\n",
       "  <tbody>\n",
       "    <tr>\n",
       "      <th>0</th>\n",
       "      <td>Mike Tyson</td>\n",
       "      <td>USA</td>\n",
       "      <td>1</td>\n",
       "      <td>NaN</td>\n",
       "      <td>boxing</td>\n",
       "      <td>1990-01-01</td>\n",
       "      <td>28.6</td>\n",
       "    </tr>\n",
       "    <tr>\n",
       "      <th>1</th>\n",
       "      <td>Buster Douglas</td>\n",
       "      <td>USA</td>\n",
       "      <td>2</td>\n",
       "      <td>NaN</td>\n",
       "      <td>boxing</td>\n",
       "      <td>1990-01-01</td>\n",
       "      <td>26.0</td>\n",
       "    </tr>\n",
       "    <tr>\n",
       "      <th>2</th>\n",
       "      <td>Sugar Ray Leonard</td>\n",
       "      <td>USA</td>\n",
       "      <td>3</td>\n",
       "      <td>NaN</td>\n",
       "      <td>boxing</td>\n",
       "      <td>1990-01-01</td>\n",
       "      <td>13.0</td>\n",
       "    </tr>\n",
       "    <tr>\n",
       "      <th>3</th>\n",
       "      <td>Ayrton Senna</td>\n",
       "      <td>Brazil</td>\n",
       "      <td>4</td>\n",
       "      <td>NaN</td>\n",
       "      <td>auto racing</td>\n",
       "      <td>1990-01-01</td>\n",
       "      <td>10.0</td>\n",
       "    </tr>\n",
       "    <tr>\n",
       "      <th>4</th>\n",
       "      <td>Alain Prost</td>\n",
       "      <td>France</td>\n",
       "      <td>5</td>\n",
       "      <td>NaN</td>\n",
       "      <td>auto racing</td>\n",
       "      <td>1990-01-01</td>\n",
       "      <td>9.0</td>\n",
       "    </tr>\n",
       "  </tbody>\n",
       "</table>\n",
       "</div>"
      ],
      "text/plain": [
       "                name nationality  current_name previous_year_rank  \\\n",
       "0         Mike Tyson         USA             1                NaN   \n",
       "1     Buster Douglas         USA             2                NaN   \n",
       "2  Sugar Ray Leonard         USA             3                NaN   \n",
       "3       Ayrton Senna      Brazil             4                NaN   \n",
       "4        Alain Prost      France             5                NaN   \n",
       "\n",
       "         sport       year  earnings_$_million  \n",
       "0       boxing 1990-01-01                28.6  \n",
       "1       boxing 1990-01-01                26.0  \n",
       "2       boxing 1990-01-01                13.0  \n",
       "3  auto racing 1990-01-01                10.0  \n",
       "4  auto racing 1990-01-01                 9.0  "
      ]
     },
     "execution_count": 10,
     "metadata": {},
     "output_type": "execute_result"
    }
   ],
   "source": [
    "# Removendo a coluna \"S.NO\"\n",
    "df_forbes_mod.drop(columns=['s.no'], inplace=True)\n",
    "df_forbes_mod.head()"
   ]
  },
  {
   "cell_type": "code",
   "execution_count": 11,
   "id": "26caa239",
   "metadata": {},
   "outputs": [
    {
     "data": {
      "text/html": [
       "<div>\n",
       "<style scoped>\n",
       "    .dataframe tbody tr th:only-of-type {\n",
       "        vertical-align: middle;\n",
       "    }\n",
       "\n",
       "    .dataframe tbody tr th {\n",
       "        vertical-align: top;\n",
       "    }\n",
       "\n",
       "    .dataframe thead th {\n",
       "        text-align: right;\n",
       "    }\n",
       "</style>\n",
       "<table border=\"1\" class=\"dataframe\">\n",
       "  <thead>\n",
       "    <tr style=\"text-align: right;\">\n",
       "      <th></th>\n",
       "      <th>name</th>\n",
       "      <th>nationality</th>\n",
       "      <th>current_name</th>\n",
       "      <th>previous_year_rank</th>\n",
       "      <th>sport</th>\n",
       "      <th>year</th>\n",
       "      <th>earnings_$_million</th>\n",
       "    </tr>\n",
       "  </thead>\n",
       "  <tbody>\n",
       "    <tr>\n",
       "      <th>0</th>\n",
       "      <td>Mike Tyson</td>\n",
       "      <td>USA</td>\n",
       "      <td>1</td>\n",
       "      <td>NaN</td>\n",
       "      <td>BOXING</td>\n",
       "      <td>1990-01-01</td>\n",
       "      <td>28.6</td>\n",
       "    </tr>\n",
       "    <tr>\n",
       "      <th>1</th>\n",
       "      <td>Buster Douglas</td>\n",
       "      <td>USA</td>\n",
       "      <td>2</td>\n",
       "      <td>NaN</td>\n",
       "      <td>BOXING</td>\n",
       "      <td>1990-01-01</td>\n",
       "      <td>26.0</td>\n",
       "    </tr>\n",
       "    <tr>\n",
       "      <th>2</th>\n",
       "      <td>Sugar Ray Leonard</td>\n",
       "      <td>USA</td>\n",
       "      <td>3</td>\n",
       "      <td>NaN</td>\n",
       "      <td>BOXING</td>\n",
       "      <td>1990-01-01</td>\n",
       "      <td>13.0</td>\n",
       "    </tr>\n",
       "    <tr>\n",
       "      <th>3</th>\n",
       "      <td>Ayrton Senna</td>\n",
       "      <td>Brazil</td>\n",
       "      <td>4</td>\n",
       "      <td>NaN</td>\n",
       "      <td>AUTO RACING</td>\n",
       "      <td>1990-01-01</td>\n",
       "      <td>10.0</td>\n",
       "    </tr>\n",
       "    <tr>\n",
       "      <th>4</th>\n",
       "      <td>Alain Prost</td>\n",
       "      <td>France</td>\n",
       "      <td>5</td>\n",
       "      <td>NaN</td>\n",
       "      <td>AUTO RACING</td>\n",
       "      <td>1990-01-01</td>\n",
       "      <td>9.0</td>\n",
       "    </tr>\n",
       "  </tbody>\n",
       "</table>\n",
       "</div>"
      ],
      "text/plain": [
       "                name nationality  current_name previous_year_rank  \\\n",
       "0         Mike Tyson         USA             1                NaN   \n",
       "1     Buster Douglas         USA             2                NaN   \n",
       "2  Sugar Ray Leonard         USA             3                NaN   \n",
       "3       Ayrton Senna      Brazil             4                NaN   \n",
       "4        Alain Prost      France             5                NaN   \n",
       "\n",
       "         sport       year  earnings_$_million  \n",
       "0       BOXING 1990-01-01                28.6  \n",
       "1       BOXING 1990-01-01                26.0  \n",
       "2       BOXING 1990-01-01                13.0  \n",
       "3  AUTO RACING 1990-01-01                10.0  \n",
       "4  AUTO RACING 1990-01-01                 9.0  "
      ]
     },
     "execution_count": 11,
     "metadata": {},
     "output_type": "execute_result"
    }
   ],
   "source": [
    "# Convertendo as observações da variável \"Sport\" em maiúsculas\n",
    "df_forbes_mod[\"sport\"] = df_forbes_mod[\"sport\"].str.upper()\n",
    "df_forbes_mod.head()"
   ]
  },
  {
   "cell_type": "code",
   "execution_count": null,
   "id": "fd93aa7e",
   "metadata": {},
   "outputs": [],
   "source": [
    "# Salvando o novo Dataset \"df_forbes_mod\"\n",
    "df_forbes_mod.to_csv(\"./Data/new_Forbes_Richest_Atheletes_(Forbes_Richest_Athletes_1990-2020).csv\")"
   ]
  },
  {
   "cell_type": "markdown",
   "id": "5529e018",
   "metadata": {},
   "source": [
    "## 2.1 Variável earnings_$_million"
   ]
  },
  {
   "cell_type": "code",
   "execution_count": 12,
   "id": "888586ba",
   "metadata": {},
   "outputs": [
    {
     "data": {
      "text/plain": [
       "count    301.000000\n",
       "mean      45.516279\n",
       "std       33.525337\n",
       "min        8.100000\n",
       "25%       24.000000\n",
       "50%       39.000000\n",
       "75%       59.400000\n",
       "max      300.000000\n",
       "Name: earnings_$_million, dtype: float64"
      ]
     },
     "execution_count": 12,
     "metadata": {},
     "output_type": "execute_result"
    }
   ],
   "source": [
    "# Resumo Estatístico da variável \"earnings_$_million\"\n",
    "df_forbes_mod[\"earnings_$_million\"].describe()"
   ]
  },
  {
   "cell_type": "code",
   "execution_count": 13,
   "id": "97ea22d5",
   "metadata": {},
   "outputs": [
    {
     "data": {
      "text/plain": [
       "<AxesSubplot:ylabel='earnings_$_million'>"
      ]
     },
     "execution_count": 13,
     "metadata": {},
     "output_type": "execute_result"
    },
    {
     "data": {
      "image/png": "[encoded data removed]",
      "text/plain": [
       "<Figure size 432x720 with 1 Axes>"
      ]
     },
     "metadata": {
      "needs_background": "light"
     },
     "output_type": "display_data"
    }
   ],
   "source": [
    "# Criando um boxplot para representar o resumo estatístico da variável \"earnings_$_million\"\n",
    "\n",
    "plt.figure(figsize=(6,10))\n",
    "sns.boxplot(y=\"earnings_$_million\", data=df_forbes_mod)\n"
   ]
  },
  {
   "cell_type": "markdown",
   "id": "252dc226",
   "metadata": {},
   "source": [
    "## 2.2 Variável name"
   ]
  },
  {
   "cell_type": "code",
   "execution_count": 14,
   "id": "51a480c3",
   "metadata": {},
   "outputs": [
    {
     "name": "stdout",
     "output_type": "stream",
     "text": [
      "Tiger Woods           19\n",
      "Michael Jordan        19\n",
      "Kobe Bryant           14\n",
      "LeBron James          13\n",
      "Michael Schumacher    13\n",
      "Roger Federer         12\n",
      "Phil Mickelson        11\n",
      "Cristiano Ronaldo     10\n",
      "Shaquille O'Neal       9\n",
      "David Beckham          9\n",
      "Name: name, dtype: int64\n"
     ]
    },
    {
     "data": {
      "image/png": "[encoded data removed]",
      "text/plain": [
       "<Figure size 1152x792 with 1 Axes>"
      ]
     },
     "metadata": {
      "needs_background": "light"
     },
     "output_type": "display_data"
    }
   ],
   "source": [
    "plt.figure(figsize=(16,11))\n",
    "plt.xlim(0, 20)\n",
    "var_namePlot = sns.countplot(y = df_forbes_mod[\"name\"], data = df_forbes_mod, \n",
    "              order = df_forbes_mod.name.value_counts().iloc[:10].index, palette=\"Set3\")\n",
    "var_namePlot.set_title(\"Atletas na FORBES\")\n",
    "print(df_forbes_mod.name.value_counts().iloc[:10])"
   ]
  },
  {
   "cell_type": "markdown",
   "id": "2926c2c2",
   "metadata": {},
   "source": [
    "Podemos ver que os atletas que mais apareceram na Forbes foram: **Tiger Woods, Michael Jordan e Kobe Bryant**"
   ]
  },
  {
   "cell_type": "markdown",
   "id": "46ab974b",
   "metadata": {},
   "source": [
    "## 2.3 Variável nationality"
   ]
  },
  {
   "cell_type": "code",
   "execution_count": 15,
   "id": "3679cea2",
   "metadata": {},
   "outputs": [
    {
     "name": "stdout",
     "output_type": "stream",
     "text": [
      "USA            206\n",
      "UK              13\n",
      "Germany         13\n",
      "Switzerland     12\n",
      "Portugal        10\n",
      "Argentina        9\n",
      "Brazil           9\n",
      "Canada           6\n",
      "Italy            4\n",
      "Philippines      3\n",
      "Name: nationality, dtype: int64\n"
     ]
    },
    {
     "data": {
      "image/png": "[encoded data removed]",
      "text/plain": [
       "<Figure size 1152x792 with 1 Axes>"
      ]
     },
     "metadata": {
      "needs_background": "light"
     },
     "output_type": "display_data"
    }
   ],
   "source": [
    "plt.figure(figsize=(16,11))\n",
    "var_nationPlot = sns.countplot(x = df_forbes_mod[\"nationality\"], data = df_forbes_mod, \n",
    "              order = df_forbes_mod.nationality.value_counts().iloc[:10].index, palette=\"Set3\")\n",
    "var_nationPlot.set_title(\"Variável nationality\")\n",
    "print(df_forbes_mod.nationality.value_counts().iloc[:10])"
   ]
  },
  {
   "cell_type": "markdown",
   "id": "df708d29",
   "metadata": {},
   "source": [
    "**Estados Unidos, United Kingdom e Germany** são os países que mais apareceram na FORBES."
   ]
  }
 ],
 "metadata": {
  "kernelspec": {
   "display_name": "Python 3",
   "language": "python",
   "name": "python3"
  },
  "language_info": {
   "codemirror_mode": {
    "name": "ipython",
    "version": 3
   },
   "file_extension": ".py",
   "mimetype": "text/x-python",
   "name": "python",
   "nbconvert_exporter": "python",
   "pygments_lexer": "ipython3",
   "version": "3.8.8"
  }
 },
 "nbformat": 4,
 "nbformat_minor": 5
}
